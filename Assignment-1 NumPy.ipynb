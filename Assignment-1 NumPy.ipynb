{
 "cells": [
  {
   "cell_type": "markdown",
   "id": "1c94915b",
   "metadata": {},
   "source": [
    "# Q1. Create a null vector of size 10 but the fifth value which is 1"
   ]
  },
  {
   "cell_type": "code",
   "execution_count": 2,
   "id": "207b2fd4",
   "metadata": {},
   "outputs": [
    {
     "name": "stdout",
     "output_type": "stream",
     "text": [
      "[0. 0. 0. 0. 1. 0. 0. 0. 0. 0.]\n"
     ]
    }
   ],
   "source": [
    "import numpy as np\n",
    "vector = np.zeros(10)\n",
    "vector[4] = 1\n",
    "print(vector)"
   ]
  },
  {
   "cell_type": "markdown",
   "id": "e31366ad",
   "metadata": {},
   "source": [
    "# Q2. Create a vector with values ranging from 10 to 49"
   ]
  },
  {
   "cell_type": "code",
   "execution_count": 4,
   "id": "bc7512a5",
   "metadata": {},
   "outputs": [
    {
     "name": "stdout",
     "output_type": "stream",
     "text": [
      "[10 11 12 13 14 15 16 17 18 19 20 21 22 23 24 25 26 27 28 29 30 31 32 33\n",
      " 34 35 36 37 38 39 40 41 42 43 44 45 46 47 48 49]\n"
     ]
    }
   ],
   "source": [
    "array1 = np.arange(10,50)\n",
    "print(array1)"
   ]
  },
  {
   "cell_type": "markdown",
   "id": "bdbcd12b",
   "metadata": {},
   "source": [
    "# Q3. Create a 3x3 matrix with values ranging from 0 to 8"
   ]
  },
  {
   "cell_type": "code",
   "execution_count": 5,
   "id": "e7e64688",
   "metadata": {},
   "outputs": [
    {
     "name": "stdout",
     "output_type": "stream",
     "text": [
      "[[0 1 2]\n",
      " [3 4 5]\n",
      " [6 7 8]]\n"
     ]
    }
   ],
   "source": [
    "matrix = np.arange(0,9).reshape(3,3)\n",
    "print(matrix)"
   ]
  },
  {
   "cell_type": "markdown",
   "id": "e3e4c59b",
   "metadata": {},
   "source": [
    "# Q4. Find indices of non-zero elements from [1,2,0,0,4,0]"
   ]
  },
  {
   "cell_type": "code",
   "execution_count": 7,
   "id": "6c1ccd1a",
   "metadata": {},
   "outputs": [
    {
     "name": "stdout",
     "output_type": "stream",
     "text": [
      "(array([0, 1, 4], dtype=int64),)\n"
     ]
    }
   ],
   "source": [
    "given_array = np.array([1,2,0,0,4,0])\n",
    "print(given_array.nonzero())"
   ]
  },
  {
   "cell_type": "markdown",
   "id": "0e06d6af",
   "metadata": {},
   "source": [
    "# Q5. Create a 10x10 array with random values and find the minimum and maximum values"
   ]
  },
  {
   "cell_type": "code",
   "execution_count": 11,
   "id": "8a929686",
   "metadata": {},
   "outputs": [
    {
     "name": "stdout",
     "output_type": "stream",
     "text": [
      "[[ 1.61119602 -1.96769219 -1.1194031  -2.10937094  0.90765829  1.00829388\n",
      "   0.25299111  1.92651301 -0.19559188 -0.44219882]\n",
      " [ 0.20444406  0.33776837  1.05862053  0.1096202  -0.00815501  0.53687246\n",
      "  -0.02962341  1.43263245  0.86039023 -0.51092094]\n",
      " [ 0.80761872  1.68897548 -0.34144476 -0.64843898  0.32042471  1.9774481\n",
      "  -1.10560181 -0.47015328  0.74736431  1.07271944]\n",
      " [ 1.11175538 -1.49657626  1.22822042 -0.44424586 -1.98935226 -0.65749571\n",
      "   0.35525733  0.61863919  1.94638944 -1.01438735]\n",
      " [ 0.42357684  1.65332187  0.82622508 -0.74830949  0.48160659 -0.41848153\n",
      "  -0.59006475 -0.47944997  1.59018439  0.44227008]\n",
      " [ 0.59121936 -1.32084619 -1.15464647  0.68339436  1.81301315  0.63314947\n",
      "  -1.27310674 -0.55197452  0.11563528 -1.87087748]\n",
      " [ 0.22930014 -0.11787355 -0.38466532 -0.86808751 -0.43391243 -0.00469104\n",
      "  -0.37509143 -0.98845089  0.17777044  0.52853642]\n",
      " [ 1.50840022  1.03198666  0.28392437 -0.35729373 -0.06782942  0.37236919\n",
      "  -0.2355152   1.55817535 -0.58344666  1.0460987 ]\n",
      " [ 1.25004612  1.35140757  0.14444058 -0.70378809 -1.23440009  0.44435132\n",
      "  -0.14693593 -0.87426045  0.67599919 -0.3940973 ]\n",
      " [ 0.55433882  0.73769474  2.25089328 -1.62226349 -0.42200074  0.1382787\n",
      "  -0.10445749  0.3070716  -0.28467976 -0.16599737]]\n",
      "Minimum Value : -2.109370936442594 \n",
      "Maximum Value : 2.2508932795052505\n"
     ]
    }
   ],
   "source": [
    "array2 = np.random.randn(10,10)\n",
    "minimum = array2.min()\n",
    "maximum = array2.max()\n",
    "print(array2)\n",
    "print('Minimum Value : %s \\nMaximum Value : %s' %(minimum,maximum))"
   ]
  },
  {
   "cell_type": "markdown",
   "id": "3f484733",
   "metadata": {},
   "source": [
    "# Q6. Create a random vector of size 30 and find the mean value"
   ]
  },
  {
   "cell_type": "code",
   "execution_count": 12,
   "id": "c638f8bb",
   "metadata": {},
   "outputs": [
    {
     "name": "stdout",
     "output_type": "stream",
     "text": [
      "Mean Value : 0.5379354604606664\n"
     ]
    }
   ],
   "source": [
    "array3 = np.random.random(30)\n",
    "mean_value = array3.mean()\n",
    "print('Mean Value :',mean_value)"
   ]
  },
  {
   "cell_type": "code",
   "execution_count": null,
   "id": "5c10537c",
   "metadata": {},
   "outputs": [],
   "source": []
  }
 ],
 "metadata": {
  "kernelspec": {
   "display_name": "Python 3 (ipykernel)",
   "language": "python",
   "name": "python3"
  },
  "language_info": {
   "codemirror_mode": {
    "name": "ipython",
    "version": 3
   },
   "file_extension": ".py",
   "mimetype": "text/x-python",
   "name": "python",
   "nbconvert_exporter": "python",
   "pygments_lexer": "ipython3",
   "version": "3.9.7"
  }
 },
 "nbformat": 4,
 "nbformat_minor": 5
}
